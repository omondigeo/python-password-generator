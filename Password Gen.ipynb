{
 "cells": [
  {
   "cell_type": "code",
   "execution_count": 1,
   "id": "4df7140b-5df1-4955-925c-fc77b8b100e8",
   "metadata": {},
   "outputs": [
    {
     "name": "stdout",
     "output_type": "stream",
     "text": [
      "['40I20(u:', 'y?v~!vGJ', 'Aih%MWvi', \";'i_?9q^\", '.=8VI:%;']\n"
     ]
    }
   ],
   "source": [
    "import random\n",
    "import string\n",
    "length=8 #number of characters in a sigle password\n",
    "count=5 #number of passwords to generate\n",
    "\n",
    "#function to generate password based on length and count\n",
    "\n",
    "def generate_password(length, count):\n",
    "    passwords = []\n",
    "    for i in range(count):\n",
    "        password = ''.join(random.choice(string.ascii_letters + string.digits + string.punctuation) for _ in range(length))\n",
    "        passwords.append(password)\n",
    "    return passwords\n",
    "\n",
    "passwords = generate_password(8, 5)\n",
    "print(passwords)"
   ]
  },
  {
   "cell_type": "code",
   "execution_count": null,
   "id": "c650efc8-cb22-4aa5-a9bb-e9d442663a9c",
   "metadata": {},
   "outputs": [],
   "source": []
  },
  {
   "cell_type": "code",
   "execution_count": null,
   "id": "d8dd920a-c483-4e03-a0e7-6298212d456b",
   "metadata": {},
   "outputs": [],
   "source": []
  }
 ],
 "metadata": {
  "kernelspec": {
   "display_name": "Python 3 (ipykernel)",
   "language": "python",
   "name": "python3"
  },
  "language_info": {
   "codemirror_mode": {
    "name": "ipython",
    "version": 3
   },
   "file_extension": ".py",
   "mimetype": "text/x-python",
   "name": "python",
   "nbconvert_exporter": "python",
   "pygments_lexer": "ipython3",
   "version": "3.11.5"
  }
 },
 "nbformat": 4,
 "nbformat_minor": 5
}
